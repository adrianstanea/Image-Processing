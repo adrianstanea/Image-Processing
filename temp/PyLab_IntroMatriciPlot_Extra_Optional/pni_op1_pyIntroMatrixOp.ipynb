{
 "cells": [
  {
   "cell_type": "markdown",
   "metadata": {},
   "source": [
    "# Mod lucru cu Matrici in Python"
   ]
  },
  {
   "cell_type": "markdown",
   "metadata": {},
   "source": [
    "## Utilizarea Pachetului NumPy"
   ]
  },
  {
   "cell_type": "markdown",
   "metadata": {},
   "source": [
    "### Instalare si import NumPy\n",
    "\n",
    "\n",
    "Instalare (doar daca este cazul - teoretic este instalat odata cu Anaconda):  \n",
    "    \n",
    "    pip install numpy\n",
    "    \n",
    "Import pachet: \n",
    "\n",
    "    import numpy as np\n",
    "\n",
    "> ___Numpy___ contine multe functii si capabilitați incorporate. Nu o sa le acoperim pe toate in acest tutorial, dar ne vom concentra pe cateva dintre cele mai importante: vectori, matrici si generarea automata de matrici.\n"
   ]
  },
  {
   "cell_type": "code",
   "execution_count": 1,
   "metadata": {},
   "outputs": [],
   "source": [
    "# Odata ce NumPy este instalat il putem importa ca o librarie\n",
    "import numpy as np "
   ]
  },
  {
   "cell_type": "markdown",
   "metadata": {},
   "source": [
    "### Definirea unei variabile de tip matrice"
   ]
  },
  {
   "cell_type": "code",
   "execution_count": 2,
   "metadata": {},
   "outputs": [
    {
     "name": "stdout",
     "output_type": "stream",
     "text": [
      "Python List:  [1, 2, 4, 5, 6]\n",
      "NumPy Array:  [1 2 4 5 6]\n"
     ]
    }
   ],
   "source": [
    "# Atribuirea unei liste de valori\n",
    "my_list = [1, 2, 4, 5, 6] # Python List\n",
    "print(\"Python List: \", my_list) \n",
    "\n",
    "# Conversia unei liste ca NumPy Array \n",
    "my_matrix = np.array(my_list) # Create an array by directly converting a list \n",
    "print(\"NumPy Array: \", my_matrix) "
   ]
  },
  {
   "cell_type": "code",
   "execution_count": 5,
   "metadata": {},
   "outputs": [
    {
     "data": {
      "text/plain": [
       "array([[1, 2, 3],\n",
       "       [4, 5, 6],\n",
       "       [7, 8, 9]])"
      ]
     },
     "execution_count": 5,
     "metadata": {},
     "output_type": "execute_result"
    }
   ],
   "source": [
    "# Definirea unei matrici ca lista de liste\n",
    "my_matrix = np.array( [[1,2,3],[4,5,6],[7,8,9]] ) # create an array by converting a list of lists\n",
    "\n",
    "# afisare variabila definita anterior direct \n",
    "# (doar o variabila pe celula se poate afisa asa)\n",
    "my_matrix"
   ]
  },
  {
   "cell_type": "code",
   "execution_count": 6,
   "metadata": {},
   "outputs": [
    {
     "name": "stdout",
     "output_type": "stream",
     "text": [
      "[[1 2 3]\n",
      " [4 5 6]\n",
      " [7 8 9]]\n"
     ]
    }
   ],
   "source": [
    "# afisare variabila definita anterior folosind print \n",
    "# (se pot afisa oricate variabile pe celula utilizand print)\n",
    "print(my_matrix)"
   ]
  },
  {
   "cell_type": "markdown",
   "metadata": {},
   "source": [
    "### Operatii artimetice intre matrici si scalar \n",
    "- adunare, scadere, inmultire si impartire a unei matrici cu scalar\n",
    "        + adunare; - scadere;\n",
    "        * inmultire; / impartire; \n",
    "        ** ridicare la patrat"
   ]
  },
  {
   "cell_type": "code",
   "execution_count": 7,
   "metadata": {},
   "outputs": [
    {
     "name": "stdout",
     "output_type": "stream",
     "text": [
      "Matricea originala: \n",
      " [[1 2 3]\n",
      " [4 5 6]\n",
      " [7 8 9]]\n",
      "Adunare cu un scalar: \n",
      " [[ 8 11 14]\n",
      " [ 9 12 15]\n",
      " [10 13 16]]\n",
      "Inmultire cu un scalar: \n",
      " [[ 2  4  6]\n",
      " [ 8 10 12]\n",
      " [14 16 18]]\n"
     ]
    }
   ],
   "source": [
    "# Operatii aritmetice cu scalari \n",
    "# Vom exemplifica doar adunarea si inmultirea\n",
    "\n",
    "print (\"Matricea originala: \\n\", my_matrix)\n",
    "\n",
    "mtx_add_sc = my_matrix + 7 # Add scalar\n",
    "print (\"Adunare cu un scalar: \\n\", mtx_add_sc)\n",
    "\n",
    "mtx_mult_sc = my_matrix * 2 # Inmultire cu un scalar\n",
    "print (\"Inmultire cu un scalar: \\n\", mtx_mult_sc)"
   ]
  },
  {
   "cell_type": "markdown",
   "metadata": {},
   "source": [
    "### Operatii artimetice intre matrici\n",
    "- adunare si inmultire intre matrici"
   ]
  },
  {
   "cell_type": "code",
   "execution_count": 11,
   "metadata": {},
   "outputs": [
    {
     "name": "stdout",
     "output_type": "stream",
     "text": [
      "mtx_add_mtx: \n",
      " [ 2  4  8 10 12]\n",
      "mtx_sub_mtx: \n",
      " [0 0 0 0 0]\n",
      "mtx_mult_pct: \n",
      " [ 1  4 16 25 36]\n",
      "mtx_mult_pct: \n",
      " [1. 1. 1. 1. 1.]\n",
      "mtx_mult_mtx: \n",
      " 82\n"
     ]
    }
   ],
   "source": [
    "# Operatii aritmetice intre matrici\n",
    "\n",
    "# Adunare si scadere intre matrici\n",
    "mtx_add_mtx = my_matrix + my_matrix \n",
    "mtx_sub_mtx = my_matrix - my_matrix\n",
    "print(\"mtx_add_mtx: \\n\", mtx_add_mtx)\n",
    "print(\"mtx_sub_mtx: \\n\", mtx_sub_mtx)\n",
    "\n",
    "# Inmultire si impartire (pozitie cu pozitie) intre matrici\n",
    "mtx_mult_pct = my_matrix * my_matrix # sau: np.multiply(my_matrix, my_matrix)\n",
    "mtx_div_pct = my_matrix / my_matrix\n",
    "print(\"mtx_mult_pct: \\n\", mtx_mult_pct)\n",
    "print(\"mtx_mult_pct: \\n\", mtx_div_pct)\n",
    "\n",
    "# Inmultire intre matrici \n",
    "mtx_mult_mtx = np.dot(my_matrix, my_matrix)\n",
    "print(\"mtx_mult_mtx: \\n\", mtx_mult_mtx)\n",
    "\n",
    "# Atentie!!! \n",
    "#     La impartirea cu zero va aparea o avertizare dar nu e o eroare\n",
    "#     Se va inlocui rezultatul cu Nan \n"
   ]
  },
  {
   "cell_type": "markdown",
   "metadata": {},
   "source": [
    "### Metode NumPy incorporate - pentru a genera automat matrici \n",
    "\n",
    "Built-in Methods to generate Arrays"
   ]
  },
  {
   "cell_type": "code",
   "execution_count": 12,
   "metadata": {},
   "outputs": [
    {
     "name": "stdout",
     "output_type": "stream",
     "text": [
      "Generarea unui vector 1D de zerouri: \n",
      " [0. 0. 0.]\n",
      "Generarea unei matrici 2D de zerouri: \n",
      " [[0. 0. 0. 0. 0.]\n",
      " [0. 0. 0. 0. 0.]\n",
      " [0. 0. 0. 0. 0.]\n",
      " [0. 0. 0. 0. 0.]\n",
      " [0. 0. 0. 0. 0.]]\n",
      "Generarea unui vector 1D de unu: \n",
      " [1. 1. 1.]\n",
      "Generarea unei matrici 2D de unu: \n",
      " [[1. 1. 1.]\n",
      " [1. 1. 1.]\n",
      " [1. 1. 1.]]\n",
      "Generarea unei matrici 2D identitate: \n",
      " [[1. 0. 0. 0.]\n",
      " [0. 1. 0. 0.]\n",
      " [0. 0. 1. 0.]\n",
      " [0. 0. 0. 1.]]\n"
     ]
    }
   ],
   "source": [
    "# Generate arrays of zeros \n",
    "mtx_zeros_1D = np.zeros(3) \n",
    "mtx_zeros_2D = np.zeros((5,5)) \n",
    "print(\"Generarea unui vector 1D de zerouri: \\n\", mtx_zeros_1D)\n",
    "print(\"Generarea unei matrici 2D de zerouri: \\n\", mtx_zeros_2D)\n",
    "\n",
    "# Generate arrays of ones\n",
    "mtx_ones_1D = np.ones(3)\n",
    "mtx_ones_2D = np.ones((3,3))\n",
    "print(\"Generarea unui vector 1D de unu: \\n\", mtx_ones_1D)\n",
    "print(\"Generarea unei matrici 2D de unu: \\n\", mtx_ones_2D)\n",
    "\n",
    "# Creates an identity matrix\n",
    "mtx_eyes_2D = np.eye(4) \n",
    "print(\"Generarea unei matrici 2D identitate: \\n\", mtx_eyes_2D)"
   ]
  },
  {
   "cell_type": "code",
   "execution_count": 21,
   "metadata": {},
   "outputs": [
    {
     "name": "stdout",
     "output_type": "stream",
     "text": [
      " -- Generare vector cu valori dintr-un interval dat --\n",
      " Pasul de scanare este default 1: \n",
      " [0 1 2 3 4 5 6 7 8 9]\n",
      " Pasul de scanare a fost specificat ca si parametru: \n",
      " [0 2 4 6 8]\n"
     ]
    }
   ],
   "source": [
    "# Generarea unui vector cu toate valorile dintr-un interval\n",
    "mtx_arange_all = np.arange(0,10)\n",
    "mtx_arange_step = np.arange(0,10,2) # cu specificarea pasului de scanare\n",
    "print(\" -- Generare vector cu valori dintr-un interval dat, cu un pas de scanare  --\")\n",
    "print(\" Pasul de scanare este default 1: \\n\", mtx_arange_all)\n",
    "print(\" Pasul de scanare a fost specificat ca si parametru: \\n\", mtx_arange_step)"
   ]
  },
  {
   "cell_type": "code",
   "execution_count": 24,
   "metadata": {},
   "outputs": [
    {
     "name": "stdout",
     "output_type": "stream",
     "text": [
      "-- Generare vector cu valori dintr-un interval dat, cu specificarea numarului de valori dorite la iesire --\n",
      "Exemplificare linspace cu putine valori: \n",
      " [ 0.  5. 10.]\n",
      "Exemplificare linspace cu mai multe valori: \n",
      " [ 0.          1.11111111  2.22222222  3.33333333  4.44444444  5.55555556\n",
      "  6.66666667  7.77777778  8.88888889 10.        ]\n"
     ]
    }
   ],
   "source": [
    "# Return evenly spaced numbers over a specified interval.\n",
    "print(\"-- Generare vector cu valori dintr-un interval dat, cu specificarea numarului de valori dorite la iesire --\")\n",
    "mtx_linspace_less = np.linspace(0,10,3)\n",
    "mtx_linspace_more = np.linspace(0,10,10)\n",
    "\n",
    "print(\"Exemplificare linspace cu putine valori: \\n\", mtx_linspace_less)\n",
    "print(\"Exemplificare linspace cu mai multe valori: \\n\", mtx_linspace_more)"
   ]
  },
  {
   "cell_type": "code",
   "execution_count": 26,
   "metadata": {},
   "outputs": [
    {
     "name": "stdout",
     "output_type": "stream",
     "text": [
      "mtx_rand_1D: \n",
      " [0.73840992 0.03769252]\n",
      "mtx_rand_2D: \n",
      " [[0.05690193 0.27331794 0.09683582 0.06936504 0.57594841]\n",
      " [0.86164822 0.69558072 0.53818638 0.67302655 0.32250581]\n",
      " [0.62666949 0.35089751 0.37272086 0.44118075 0.52509122]\n",
      " [0.76760519 0.17048833 0.78894655 0.86335375 0.61905264]\n",
      " [0.99981792 0.55821942 0.85524534 0.24438102 0.77953916]]\n",
      "mtx_randn_1D: \n",
      " [-0.50348928  0.30261045 -0.43249584 -0.29105752]\n",
      "mtx_randn_2D: \n",
      " [[ 0.62353679  0.69421881 -0.93557059  2.11019902 -1.15761685]\n",
      " [-0.93138172 -1.23437948  0.3738543  -1.11623799  0.80175312]\n",
      " [-0.48272377 -0.02184726  0.19510358  0.12452043 -0.62428776]\n",
      " [-0.39102034 -0.03578222 -0.53378259  1.41025141 -1.78153381]\n",
      " [-1.50623465  3.15629357  1.15453189  0.34136357  0.9432134 ]]\n",
      "rdnint_one: \n",
      " 92\n",
      "rdnint_more: \n",
      " [46 34 58 77 57 49 26 98 83 69]\n"
     ]
    }
   ],
   "source": [
    "# rand - Create an array of the given shape \n",
    "#       and populate it with random samples from a uniform distribution over [0, 1].\n",
    "mtx_rand_1D = np.random.rand(2) # 1D\n",
    "mtx_rand_2D = np.random.rand(5,5) # 2D\n",
    "\n",
    "print(\"mtx_rand_1D: \\n\", mtx_rand_1D)\n",
    "print(\"mtx_rand_2D: \\n\", mtx_rand_2D)\n",
    "\n",
    "# randn - Return a sample (or samples) from the \"standard normal\" distribution. \n",
    "#         Unlike rand which is uniform\n",
    "mtx_randn_1D = np.random.randn(4) \n",
    "mtx_randn_2D = np.random.randn(5,5)\n",
    "\n",
    "print(\"mtx_randn_1D: \\n\", mtx_randn_1D)\n",
    "print(\"mtx_randn_2D: \\n\", mtx_randn_2D)\n",
    "\n",
    "# randint - Return random integers from low (inclusive) to high (exclusive).\n",
    "rdnint_one = np.random.randint(1,100)\n",
    "rdnint_more = np.random.randint(1,100,10)\n",
    "\n",
    "print(\"rdnint_one: \\n\", rdnint_one)\n",
    "print(\"rdnint_more: \\n\", rdnint_more)"
   ]
  },
  {
   "cell_type": "markdown",
   "metadata": {},
   "source": [
    "## Array Attributes and Methods"
   ]
  },
  {
   "cell_type": "code",
   "execution_count": 28,
   "metadata": {},
   "outputs": [
    {
     "name": "stdout",
     "output_type": "stream",
     "text": [
      "arr: \n",
      " [ 0  1  2  3  4  5  6  7  8  9 10 11 12 13 14 15 16 17 18 19 20 21 22 23\n",
      " 24]\n",
      "arr_rdn: \n",
      " [32  7 35 38 11 35 28 37 49 23]\n"
     ]
    }
   ],
   "source": [
    "# Ne vom genera doua matrici cu care sa lucram in continuare\n",
    "arr = np.arange(25)\n",
    "arr_rdn = np.random.randint(0,50,10)\n",
    "\n",
    "print(\"arr: \\n\", arr)\n",
    "print(\"arr_rdn: \\n\", arr_rdn)"
   ]
  },
  {
   "cell_type": "code",
   "execution_count": 29,
   "metadata": {},
   "outputs": [
    {
     "name": "stdout",
     "output_type": "stream",
     "text": [
      "arr_rdn.max():  49\n",
      "arr_rdn.argmax():  8\n",
      "arr_rdn.min():  7\n",
      "arr_rdn.argmin():  1\n"
     ]
    }
   ],
   "source": [
    "\n",
    "# These are useful methods for finding max or min values. \n",
    "# Or to find their index locations using argmin or argmax\n",
    "\n",
    "# max,min,argmax,argmin \n",
    "\n",
    "print(\"arr_rdn.max(): \", arr_rdn.max())\n",
    "print(\"arr_rdn.argmax(): \", arr_rdn.argmax())\n",
    "\n",
    "print(\"arr_rdn.min(): \", arr_rdn.min())\n",
    "print(\"arr_rdn.argmin(): \", arr_rdn.argmin())\n"
   ]
  },
  {
   "cell_type": "code",
   "execution_count": 30,
   "metadata": {},
   "outputs": [
    {
     "name": "stdout",
     "output_type": "stream",
     "text": [
      "arr_rsh: \n",
      " [[ 0  1  2  3  4]\n",
      " [ 5  6  7  8  9]\n",
      " [10 11 12 13 14]\n",
      " [15 16 17 18 19]\n",
      " [20 21 22 23 24]]\n"
     ]
    },
    {
     "data": {
      "text/plain": [
       "(25,)"
      ]
     },
     "execution_count": 30,
     "metadata": {},
     "output_type": "execute_result"
    }
   ],
   "source": [
    "# Reshape - Returns an array containing the same data with a new shape.\n",
    "arr_rsh = arr.reshape(5,5)\n",
    "print (\"arr_rsh: \\n\", arr_rsh)\n",
    "\n",
    "# Shape - Shape is an attribute that arrays have (not a method):\n",
    "\n",
    "arr.shape # Vector\n"
   ]
  },
  {
   "cell_type": "code",
   "execution_count": 32,
   "metadata": {},
   "outputs": [
    {
     "name": "stdout",
     "output_type": "stream",
     "text": [
      "[[ 0  1  2  3  4  5  6  7  8  9 10 11 12 13 14 15 16 17 18 19 20 21 22 23\n",
      "  24]]\n",
      "(1, 25)\n",
      "[[ 0]\n",
      " [ 1]\n",
      " [ 2]\n",
      " [ 3]\n",
      " [ 4]\n",
      " [ 5]\n",
      " [ 6]\n",
      " [ 7]\n",
      " [ 8]\n",
      " [ 9]\n",
      " [10]\n",
      " [11]\n",
      " [12]\n",
      " [13]\n",
      " [14]\n",
      " [15]\n",
      " [16]\n",
      " [17]\n",
      " [18]\n",
      " [19]\n",
      " [20]\n",
      " [21]\n",
      " [22]\n",
      " [23]\n",
      " [24]]\n",
      "(25, 1)\n"
     ]
    }
   ],
   "source": [
    "# Notice the two sets of brackets\n",
    "print(arr.reshape(1,25))\n",
    "\n",
    "print(arr.reshape(1,25).shape)\n",
    "\n",
    "print(arr.reshape(25,1))\n",
    "\n",
    "print(arr.reshape(25,1).shape)"
   ]
  },
  {
   "cell_type": "code",
   "execution_count": 33,
   "metadata": {},
   "outputs": [
    {
     "data": {
      "text/plain": [
       "dtype('int32')"
      ]
     },
     "execution_count": 33,
     "metadata": {},
     "output_type": "execute_result"
    }
   ],
   "source": [
    "# dtype - You can also grab the data type of the object in the array:\n",
    "\n",
    "arr.dtype"
   ]
  },
  {
   "cell_type": "markdown",
   "metadata": {},
   "source": [
    "Universal Array Functions "
   ]
  },
  {
   "cell_type": "code",
   "execution_count": 34,
   "metadata": {},
   "outputs": [
    {
     "name": "stderr",
     "output_type": "stream",
     "text": [
      "C:\\Users\\Florea.Camelia\\Anaconda3\\lib\\site-packages\\ipykernel_launcher.py:1: RuntimeWarning: divide by zero encountered in true_divide\n",
      "  \"\"\"Entry point for launching an IPython kernel.\n",
      "C:\\Users\\Florea.Camelia\\Anaconda3\\lib\\site-packages\\ipykernel_launcher.py:11: RuntimeWarning: divide by zero encountered in log\n",
      "  # This is added back by InteractiveShellApp.init_path()\n"
     ]
    },
    {
     "data": {
      "text/plain": [
       "array([      -inf, 0.        , 0.69314718, 1.09861229, 1.38629436,\n",
       "       1.60943791, 1.79175947, 1.94591015, 2.07944154, 2.19722458,\n",
       "       2.30258509, 2.39789527, 2.48490665, 2.56494936, 2.63905733,\n",
       "       2.7080502 , 2.77258872, 2.83321334, 2.89037176, 2.94443898,\n",
       "       2.99573227, 3.04452244, 3.09104245, 3.13549422, 3.17805383])"
      ]
     },
     "execution_count": 34,
     "metadata": {},
     "output_type": "execute_result"
    }
   ],
   "source": [
    "1/arr # Also warning, but not an error instead infinity\n",
    "arr**3\n",
    "#Taking Square Roots\n",
    "np.sqrt(arr)\n",
    "\n",
    "#Calcualting exponential (e^)\n",
    "np.exp(arr)\n",
    "\n",
    "np.sin(arr)\n",
    "\n",
    "np.log(arr)"
   ]
  },
  {
   "cell_type": "markdown",
   "metadata": {},
   "source": [
    "## Great Job!"
   ]
  },
  {
   "cell_type": "markdown",
   "metadata": {},
   "source": [
    "That's all we need to know for now!"
   ]
  },
  {
   "cell_type": "code",
   "execution_count": null,
   "metadata": {},
   "outputs": [],
   "source": []
  }
 ],
 "metadata": {
  "kernelspec": {
   "display_name": "Python 3",
   "language": "python",
   "name": "python3"
  },
  "language_info": {
   "codemirror_mode": {
    "name": "ipython",
    "version": 3
   },
   "file_extension": ".py",
   "mimetype": "text/x-python",
   "name": "python",
   "nbconvert_exporter": "python",
   "pygments_lexer": "ipython3",
   "version": "3.10.13"
  }
 },
 "nbformat": 4,
 "nbformat_minor": 4
}
