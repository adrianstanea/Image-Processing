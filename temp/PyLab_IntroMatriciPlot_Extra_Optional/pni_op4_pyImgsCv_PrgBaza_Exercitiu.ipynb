{
 "cells": [
  {
   "cell_type": "markdown",
   "metadata": {},
   "source": [
    "# Program de baza de prelucrarea numerica a imaginilor\n",
    "\n",
    "Proiectarea si dezvoltarea unui program de baza in prelucrarea numerica a imaginilor in Python, program care se va utiliza pe parcursul semestrului la toate lucrarile de laborator.\n",
    "\n",
    "Diciplina PNI doreste o familiariza cu algoritmii de bază practici și simpli de prelucrare a imaginilor digitale, oferind o posibilă bază de pregătire practică pentru activități de dezvoltare și cercetare în acest domeniu. Astfel, se vor aplica câteva simplificări: \n",
    "- se tratează doar imagini pe nivele de gri; \n",
    "- se discută doar metode de baza de prelucrare, fără a se intra in algoritmi mai avansați care presupun utilizarea cascadată/ combinată a metodelor de bază\n",
    "\n",
    "\n",
    "Pasii necesari in dezvoltarea unui program de baza pentru realizarea unei procesari sunt:\n",
    "- 1. Selectie imagine originala pentru procesat (folosind un prompter)\n",
    "- 2. Citire imagine si incarcarea intr-o variabila locala (citire direct pe nivele de gri!!)\n",
    "- 3. Afisare imagine, informatii despre imagine si histograma ei\n",
    "- 4. Realizare procesare (modificare luminanta imagine)\n",
    "- 5. Afisare imagine procesata si histograma ei\n",
    "- 6. Salvare imagine procesata (folosind un prompter pentru definire numele fisierului in care salvam)\n",
    "\n",
    "In continuare, pe baza modelului avut in programul \"lab01_pyImgsCv\", fiecare student va realiza singur acest program de baza. \n",
    "\n",
    "Adaugati secventa de cod necesara realizarii fiecarui pas in celula de cod ramasa libera!\n"
   ]
  },
  {
   "cell_type": "markdown",
   "metadata": {},
   "source": [
    "## 1. Selectie imagine originala pentru procesat (folosind un prompter)\n",
    "\n",
    "Setati ca prompterul pentru deschiderea imaginii sa deschida direct folderul cu imagini. "
   ]
  },
  {
   "cell_type": "code",
   "execution_count": null,
   "metadata": {},
   "outputs": [],
   "source": []
  },
  {
   "cell_type": "markdown",
   "metadata": {},
   "source": [
    "## 2. Citire imagine si incarcarea intr-o variabila locala (citire direct pe nivele de gri!!)"
   ]
  },
  {
   "cell_type": "code",
   "execution_count": null,
   "metadata": {},
   "outputs": [],
   "source": []
  },
  {
   "cell_type": "markdown",
   "metadata": {},
   "source": [
    "## 3. Afisare imagine, informatii despre imagine si histograma ei"
   ]
  },
  {
   "cell_type": "code",
   "execution_count": null,
   "metadata": {},
   "outputs": [],
   "source": []
  },
  {
   "cell_type": "markdown",
   "metadata": {},
   "source": [
    "## 4. Realizare procesare (modificare luminanta imagine)"
   ]
  },
  {
   "cell_type": "code",
   "execution_count": null,
   "metadata": {},
   "outputs": [],
   "source": []
  },
  {
   "cell_type": "markdown",
   "metadata": {},
   "source": [
    "## 5. Afisare imagine procesata si histograma ei"
   ]
  },
  {
   "cell_type": "code",
   "execution_count": null,
   "metadata": {},
   "outputs": [],
   "source": []
  },
  {
   "cell_type": "markdown",
   "metadata": {},
   "source": [
    "## 6. Salvare imagine procesata (folosind un prompter pentru definire numele fisierului in care salvam)"
   ]
  },
  {
   "cell_type": "code",
   "execution_count": null,
   "metadata": {},
   "outputs": [],
   "source": []
  },
  {
   "cell_type": "markdown",
   "metadata": {},
   "source": [
    "### Felicitari!!! Tocmai ati realizat primul vostru program de procesare imagini in Python!\n",
    "\n",
    "Rulati programul pe cel putin 3 imagini la alegere!\n",
    "\n",
    "O sa printam (meniul principal File->Download As->PDF) acest script si il incarcam online in Teams-ul disciplinei la assigment-ul laboratorului curent!"
   ]
  },
  {
   "cell_type": "code",
   "execution_count": null,
   "metadata": {},
   "outputs": [],
   "source": []
  }
 ],
 "metadata": {
  "kernelspec": {
   "display_name": "Python 3",
   "language": "python",
   "name": "python3"
  },
  "language_info": {
   "codemirror_mode": {
    "name": "ipython",
    "version": 3
   },
   "file_extension": ".py",
   "mimetype": "text/x-python",
   "name": "python",
   "nbconvert_exporter": "python",
   "pygments_lexer": "ipython3",
   "version": "3.8.8"
  }
 },
 "nbformat": 4,
 "nbformat_minor": 4
}
